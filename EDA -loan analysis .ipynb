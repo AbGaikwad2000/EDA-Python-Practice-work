{
 "cells": [
  {
   "cell_type": "markdown",
   "id": "17ff7645-7b60-4642-87af-990b5348d0ff",
   "metadata": {},
   "source": [
    "## EDA - Loan analysis         \n"
   ]
  },
  {
   "cell_type": "markdown",
   "id": "ee5c4cef-cdbc-40b9-b9fd-2638e3b67338",
   "metadata": {},
   "source": [
    "# Data cleaning and handling missing values :\n",
    "\n",
    "1. Are there any missing values in the dataset? If yes, which columns have them and what's the percentage of missing values in each column?\n",
    "2. Are there any duplicate rows in the dataset? If yes, how many duplicate rows are there?\n",
    "3. Are there any invalid values in the fico column? For example, are there FICO scores outside the typical range (300-850)?\n",
    "4. Does the installment column have outliers? If so, how can you effectively handle these outliers to avoid distorting the analysis?\n",
    "5. What would be the most appropriate method to fill in missing values for numerical columns like int.rate or installment? (mean, median, regression, etc.)\n",
    "\n",
    "\n",
    "# Visualisation :\n",
    "\n",
    "\n",
    "1. What is the distribution of the installment column? Are there any values that seem unrealistic?\n",
    "2. Compare the distribution of FICO scores for loans that were fully paid versus those that were not fully paid.\n",
    "3. What is the distribution of the interest rate (int.rate) for different loan purposes? Interpret your results."
   ]
  },
  {
   "cell_type": "code",
   "execution_count": 1,
   "id": "e0e8c6da-3903-451d-80f9-c3604b82d7b0",
   "metadata": {},
   "outputs": [],
   "source": [
    "import pandas as pd\n",
    "import matplotlib.pyplot as plt\n",
    "import seaborn as sns"
   ]
  },
  {
   "cell_type": "code",
   "execution_count": 2,
   "id": "bf14cfb9-f15e-426d-ba43-8d8f781252e9",
   "metadata": {},
   "outputs": [
    {
     "data": {
      "text/html": [
       "<div>\n",
       "<style scoped>\n",
       "    .dataframe tbody tr th:only-of-type {\n",
       "        vertical-align: middle;\n",
       "    }\n",
       "\n",
       "    .dataframe tbody tr th {\n",
       "        vertical-align: top;\n",
       "    }\n",
       "\n",
       "    .dataframe thead th {\n",
       "        text-align: right;\n",
       "    }\n",
       "</style>\n",
       "<table border=\"1\" class=\"dataframe\">\n",
       "  <thead>\n",
       "    <tr style=\"text-align: right;\">\n",
       "      <th></th>\n",
       "      <th>credit.policy</th>\n",
       "      <th>purpose</th>\n",
       "      <th>int.rate</th>\n",
       "      <th>installment</th>\n",
       "      <th>log.annual.inc</th>\n",
       "      <th>dti</th>\n",
       "      <th>fico</th>\n",
       "      <th>days.with.cr.line</th>\n",
       "      <th>revol.bal</th>\n",
       "      <th>revol.util</th>\n",
       "      <th>inq.last.6mths</th>\n",
       "      <th>delinq.2yrs</th>\n",
       "      <th>pub.rec</th>\n",
       "      <th>not.fully.paid</th>\n",
       "    </tr>\n",
       "  </thead>\n",
       "  <tbody>\n",
       "    <tr>\n",
       "      <th>0</th>\n",
       "      <td>1</td>\n",
       "      <td>debt_consolidation</td>\n",
       "      <td>0.1189</td>\n",
       "      <td>829.10</td>\n",
       "      <td>11.350407</td>\n",
       "      <td>19.48</td>\n",
       "      <td>737.0</td>\n",
       "      <td>5639.958333</td>\n",
       "      <td>28854.0</td>\n",
       "      <td>52.1</td>\n",
       "      <td>0.0</td>\n",
       "      <td>0.0</td>\n",
       "      <td>0.0</td>\n",
       "      <td>0.0</td>\n",
       "    </tr>\n",
       "    <tr>\n",
       "      <th>1</th>\n",
       "      <td>1</td>\n",
       "      <td>credit_card</td>\n",
       "      <td>0.1071</td>\n",
       "      <td>228.22</td>\n",
       "      <td>11.082143</td>\n",
       "      <td>14.29</td>\n",
       "      <td>707.0</td>\n",
       "      <td>2760.000000</td>\n",
       "      <td>33623.0</td>\n",
       "      <td>76.7</td>\n",
       "      <td>0.0</td>\n",
       "      <td>0.0</td>\n",
       "      <td>0.0</td>\n",
       "      <td>0.0</td>\n",
       "    </tr>\n",
       "    <tr>\n",
       "      <th>2</th>\n",
       "      <td>1</td>\n",
       "      <td>debt_consolidation</td>\n",
       "      <td>0.1357</td>\n",
       "      <td>366.86</td>\n",
       "      <td>10.373491</td>\n",
       "      <td>11.63</td>\n",
       "      <td>682.0</td>\n",
       "      <td>4710.000000</td>\n",
       "      <td>3511.0</td>\n",
       "      <td>25.6</td>\n",
       "      <td>1.0</td>\n",
       "      <td>0.0</td>\n",
       "      <td>0.0</td>\n",
       "      <td>0.0</td>\n",
       "    </tr>\n",
       "    <tr>\n",
       "      <th>3</th>\n",
       "      <td>1</td>\n",
       "      <td>debt_consolidation</td>\n",
       "      <td>0.1008</td>\n",
       "      <td>162.34</td>\n",
       "      <td>11.350407</td>\n",
       "      <td>8.10</td>\n",
       "      <td>712.0</td>\n",
       "      <td>2699.958333</td>\n",
       "      <td>33667.0</td>\n",
       "      <td>73.2</td>\n",
       "      <td>1.0</td>\n",
       "      <td>0.0</td>\n",
       "      <td>0.0</td>\n",
       "      <td>0.0</td>\n",
       "    </tr>\n",
       "    <tr>\n",
       "      <th>4</th>\n",
       "      <td>1</td>\n",
       "      <td>credit_card</td>\n",
       "      <td>0.1426</td>\n",
       "      <td>102.92</td>\n",
       "      <td>11.299732</td>\n",
       "      <td>14.97</td>\n",
       "      <td>667.0</td>\n",
       "      <td>4066.000000</td>\n",
       "      <td>4740.0</td>\n",
       "      <td>39.5</td>\n",
       "      <td>0.0</td>\n",
       "      <td>1.0</td>\n",
       "      <td>0.0</td>\n",
       "      <td>0.0</td>\n",
       "    </tr>\n",
       "  </tbody>\n",
       "</table>\n",
       "</div>"
      ],
      "text/plain": [
       "   credit.policy             purpose  int.rate  installment  log.annual.inc  \\\n",
       "0              1  debt_consolidation    0.1189       829.10       11.350407   \n",
       "1              1         credit_card    0.1071       228.22       11.082143   \n",
       "2              1  debt_consolidation    0.1357       366.86       10.373491   \n",
       "3              1  debt_consolidation    0.1008       162.34       11.350407   \n",
       "4              1         credit_card    0.1426       102.92       11.299732   \n",
       "\n",
       "     dti   fico  days.with.cr.line  revol.bal  revol.util  inq.last.6mths  \\\n",
       "0  19.48  737.0        5639.958333    28854.0        52.1             0.0   \n",
       "1  14.29  707.0        2760.000000    33623.0        76.7             0.0   \n",
       "2  11.63  682.0        4710.000000     3511.0        25.6             1.0   \n",
       "3   8.10  712.0        2699.958333    33667.0        73.2             1.0   \n",
       "4  14.97  667.0        4066.000000     4740.0        39.5             0.0   \n",
       "\n",
       "   delinq.2yrs  pub.rec  not.fully.paid  \n",
       "0          0.0      0.0             0.0  \n",
       "1          0.0      0.0             0.0  \n",
       "2          0.0      0.0             0.0  \n",
       "3          0.0      0.0             0.0  \n",
       "4          1.0      0.0             0.0  "
      ]
     },
     "execution_count": 2,
     "metadata": {},
     "output_type": "execute_result"
    }
   ],
   "source": [
    "#laoding the dataset\n",
    "\n",
    "data = pd.read_csv(\"C:/Users/91771/Downloads/Loan Data - loan_data.csv\")\n",
    "\n",
    "#Using head to see the sample five rows of dataset\n",
    "\n",
    "data.head()"
   ]
  },
  {
   "cell_type": "code",
   "execution_count": 3,
   "id": "89ee0d03-3d1e-43fb-9047-f6bf364690cb",
   "metadata": {},
   "outputs": [
    {
     "name": "stdout",
     "output_type": "stream",
     "text": [
      "<class 'pandas.core.frame.DataFrame'>\n",
      "RangeIndex: 9780 entries, 0 to 9779\n",
      "Data columns (total 14 columns):\n",
      " #   Column             Non-Null Count  Dtype  \n",
      "---  ------             --------------  -----  \n",
      " 0   credit.policy      9780 non-null   int64  \n",
      " 1   purpose            9779 non-null   object \n",
      " 2   int.rate           9780 non-null   float64\n",
      " 3   installment        9779 non-null   float64\n",
      " 4   log.annual.inc     9779 non-null   float64\n",
      " 5   dti                9779 non-null   float64\n",
      " 6   fico               9778 non-null   float64\n",
      " 7   days.with.cr.line  9776 non-null   float64\n",
      " 8   revol.bal          9777 non-null   float64\n",
      " 9   revol.util         9779 non-null   float64\n",
      " 10  inq.last.6mths     9778 non-null   float64\n",
      " 11  delinq.2yrs        9778 non-null   float64\n",
      " 12  pub.rec            9777 non-null   float64\n",
      " 13  not.fully.paid     9775 non-null   float64\n",
      "dtypes: float64(12), int64(1), object(1)\n",
      "memory usage: 1.0+ MB\n"
     ]
    },
    {
     "data": {
      "text/html": [
       "<div>\n",
       "<style scoped>\n",
       "    .dataframe tbody tr th:only-of-type {\n",
       "        vertical-align: middle;\n",
       "    }\n",
       "\n",
       "    .dataframe tbody tr th {\n",
       "        vertical-align: top;\n",
       "    }\n",
       "\n",
       "    .dataframe thead th {\n",
       "        text-align: right;\n",
       "    }\n",
       "</style>\n",
       "<table border=\"1\" class=\"dataframe\">\n",
       "  <thead>\n",
       "    <tr style=\"text-align: right;\">\n",
       "      <th></th>\n",
       "      <th>credit.policy</th>\n",
       "      <th>int.rate</th>\n",
       "      <th>installment</th>\n",
       "      <th>log.annual.inc</th>\n",
       "      <th>dti</th>\n",
       "      <th>fico</th>\n",
       "      <th>days.with.cr.line</th>\n",
       "      <th>revol.bal</th>\n",
       "      <th>revol.util</th>\n",
       "      <th>inq.last.6mths</th>\n",
       "      <th>delinq.2yrs</th>\n",
       "      <th>pub.rec</th>\n",
       "      <th>not.fully.paid</th>\n",
       "    </tr>\n",
       "  </thead>\n",
       "  <tbody>\n",
       "    <tr>\n",
       "      <th>count</th>\n",
       "      <td>9780.000000</td>\n",
       "      <td>9780.000000</td>\n",
       "      <td>9779.000000</td>\n",
       "      <td>9779.000000</td>\n",
       "      <td>9779.000000</td>\n",
       "      <td>9778.000000</td>\n",
       "      <td>9776.000000</td>\n",
       "      <td>9.777000e+03</td>\n",
       "      <td>9779.000000</td>\n",
       "      <td>9778.000000</td>\n",
       "      <td>9778.000000</td>\n",
       "      <td>9777.000000</td>\n",
       "      <td>9775.000000</td>\n",
       "    </tr>\n",
       "    <tr>\n",
       "      <th>mean</th>\n",
       "      <td>0.808998</td>\n",
       "      <td>0.122231</td>\n",
       "      <td>317.519258</td>\n",
       "      <td>10.933792</td>\n",
       "      <td>12.550858</td>\n",
       "      <td>707.428615</td>\n",
       "      <td>4562.531382</td>\n",
       "      <td>1.689948e+04</td>\n",
       "      <td>46.653153</td>\n",
       "      <td>1.563510</td>\n",
       "      <td>0.163530</td>\n",
       "      <td>0.062084</td>\n",
       "      <td>0.159795</td>\n",
       "    </tr>\n",
       "    <tr>\n",
       "      <th>std</th>\n",
       "      <td>0.393111</td>\n",
       "      <td>0.026888</td>\n",
       "      <td>206.741455</td>\n",
       "      <td>0.616909</td>\n",
       "      <td>6.886031</td>\n",
       "      <td>56.544912</td>\n",
       "      <td>2505.199977</td>\n",
       "      <td>3.356204e+04</td>\n",
       "      <td>29.031750</td>\n",
       "      <td>2.185221</td>\n",
       "      <td>0.544766</td>\n",
       "      <td>0.261658</td>\n",
       "      <td>0.366435</td>\n",
       "    </tr>\n",
       "    <tr>\n",
       "      <th>min</th>\n",
       "      <td>0.000000</td>\n",
       "      <td>0.060000</td>\n",
       "      <td>15.670000</td>\n",
       "      <td>7.547502</td>\n",
       "      <td>0.000000</td>\n",
       "      <td>295.000000</td>\n",
       "      <td>178.958333</td>\n",
       "      <td>0.000000e+00</td>\n",
       "      <td>0.000000</td>\n",
       "      <td>0.000000</td>\n",
       "      <td>0.000000</td>\n",
       "      <td>0.000000</td>\n",
       "      <td>0.000000</td>\n",
       "    </tr>\n",
       "    <tr>\n",
       "      <th>25%</th>\n",
       "      <td>1.000000</td>\n",
       "      <td>0.102800</td>\n",
       "      <td>162.815000</td>\n",
       "      <td>10.558414</td>\n",
       "      <td>7.140000</td>\n",
       "      <td>682.000000</td>\n",
       "      <td>2795.000000</td>\n",
       "      <td>3.171000e+03</td>\n",
       "      <td>22.300000</td>\n",
       "      <td>0.000000</td>\n",
       "      <td>0.000000</td>\n",
       "      <td>0.000000</td>\n",
       "      <td>0.000000</td>\n",
       "    </tr>\n",
       "    <tr>\n",
       "      <th>50%</th>\n",
       "      <td>1.000000</td>\n",
       "      <td>0.122100</td>\n",
       "      <td>267.730000</td>\n",
       "      <td>10.933107</td>\n",
       "      <td>12.590000</td>\n",
       "      <td>707.000000</td>\n",
       "      <td>4139.041667</td>\n",
       "      <td>8.547000e+03</td>\n",
       "      <td>46.100000</td>\n",
       "      <td>1.000000</td>\n",
       "      <td>0.000000</td>\n",
       "      <td>0.000000</td>\n",
       "      <td>0.000000</td>\n",
       "    </tr>\n",
       "    <tr>\n",
       "      <th>75%</th>\n",
       "      <td>1.000000</td>\n",
       "      <td>0.139200</td>\n",
       "      <td>429.180000</td>\n",
       "      <td>11.302204</td>\n",
       "      <td>17.895000</td>\n",
       "      <td>737.000000</td>\n",
       "      <td>5730.041667</td>\n",
       "      <td>1.827300e+04</td>\n",
       "      <td>70.900000</td>\n",
       "      <td>2.000000</td>\n",
       "      <td>0.000000</td>\n",
       "      <td>0.000000</td>\n",
       "      <td>0.000000</td>\n",
       "    </tr>\n",
       "    <tr>\n",
       "      <th>max</th>\n",
       "      <td>1.000000</td>\n",
       "      <td>0.216400</td>\n",
       "      <td>940.140000</td>\n",
       "      <td>14.528354</td>\n",
       "      <td>29.960000</td>\n",
       "      <td>827.000000</td>\n",
       "      <td>17639.958330</td>\n",
       "      <td>1.207359e+06</td>\n",
       "      <td>119.000000</td>\n",
       "      <td>33.000000</td>\n",
       "      <td>13.000000</td>\n",
       "      <td>5.000000</td>\n",
       "      <td>1.000000</td>\n",
       "    </tr>\n",
       "  </tbody>\n",
       "</table>\n",
       "</div>"
      ],
      "text/plain": [
       "       credit.policy     int.rate  installment  log.annual.inc          dti  \\\n",
       "count    9780.000000  9780.000000  9779.000000     9779.000000  9779.000000   \n",
       "mean        0.808998     0.122231   317.519258       10.933792    12.550858   \n",
       "std         0.393111     0.026888   206.741455        0.616909     6.886031   \n",
       "min         0.000000     0.060000    15.670000        7.547502     0.000000   \n",
       "25%         1.000000     0.102800   162.815000       10.558414     7.140000   \n",
       "50%         1.000000     0.122100   267.730000       10.933107    12.590000   \n",
       "75%         1.000000     0.139200   429.180000       11.302204    17.895000   \n",
       "max         1.000000     0.216400   940.140000       14.528354    29.960000   \n",
       "\n",
       "              fico  days.with.cr.line     revol.bal   revol.util  \\\n",
       "count  9778.000000        9776.000000  9.777000e+03  9779.000000   \n",
       "mean    707.428615        4562.531382  1.689948e+04    46.653153   \n",
       "std      56.544912        2505.199977  3.356204e+04    29.031750   \n",
       "min     295.000000         178.958333  0.000000e+00     0.000000   \n",
       "25%     682.000000        2795.000000  3.171000e+03    22.300000   \n",
       "50%     707.000000        4139.041667  8.547000e+03    46.100000   \n",
       "75%     737.000000        5730.041667  1.827300e+04    70.900000   \n",
       "max     827.000000       17639.958330  1.207359e+06   119.000000   \n",
       "\n",
       "       inq.last.6mths  delinq.2yrs      pub.rec  not.fully.paid  \n",
       "count     9778.000000  9778.000000  9777.000000     9775.000000  \n",
       "mean         1.563510     0.163530     0.062084        0.159795  \n",
       "std          2.185221     0.544766     0.261658        0.366435  \n",
       "min          0.000000     0.000000     0.000000        0.000000  \n",
       "25%          0.000000     0.000000     0.000000        0.000000  \n",
       "50%          1.000000     0.000000     0.000000        0.000000  \n",
       "75%          2.000000     0.000000     0.000000        0.000000  \n",
       "max         33.000000    13.000000     5.000000        1.000000  "
      ]
     },
     "execution_count": 3,
     "metadata": {},
     "output_type": "execute_result"
    }
   ],
   "source": [
    "#Checking more basic information about dataset\n",
    "\n",
    "data.info()\n",
    "data.describe()"
   ]
  },
  {
   "cell_type": "code",
   "execution_count": 4,
   "id": "1e290fe0-a963-4548-b2b1-826234156297",
   "metadata": {},
   "outputs": [
    {
     "name": "stdout",
     "output_type": "stream",
     "text": [
      "credit.policy        0.000000\n",
      "purpose              0.010225\n",
      "int.rate             0.000000\n",
      "installment          0.010225\n",
      "log.annual.inc       0.010225\n",
      "dti                  0.010225\n",
      "fico                 0.020450\n",
      "days.with.cr.line    0.040900\n",
      "revol.bal            0.030675\n",
      "revol.util           0.010225\n",
      "inq.last.6mths       0.020450\n",
      "delinq.2yrs          0.020450\n",
      "pub.rec              0.030675\n",
      "not.fully.paid       0.051125\n",
      "dtype: float64\n"
     ]
    }
   ],
   "source": [
    "#Checking the percentage of missing value\n",
    "\n",
    "percentage_of_missing_values_in_each_column = data.isnull().sum()/len(data)*100  \n",
    "print(percentage_of_missing_values_in_each_column)\n",
    "\n"
   ]
  },
  {
   "cell_type": "code",
   "execution_count": 5,
   "id": "cd5a1300-056c-4139-947a-bde5d42fcac0",
   "metadata": {},
   "outputs": [
    {
     "name": "stdout",
     "output_type": "stream",
     "text": [
      "190\n"
     ]
    }
   ],
   "source": [
    "#Checking for duplicates rows, and count of it\n",
    "\n",
    "count_of_duplicated_rows = data.duplicated().sum()\n",
    "print(count_of_duplicated_rows)"
   ]
  },
  {
   "cell_type": "code",
   "execution_count": 6,
   "id": "ef7c4c92-bc8b-45c0-a1da-6211bd46e6db",
   "metadata": {},
   "outputs": [],
   "source": [
    "#Deleting the duplicated rows from the dataset\n",
    "\n",
    "data.drop_duplicates(inplace = True)"
   ]
  },
  {
   "cell_type": "code",
   "execution_count": 7,
   "id": "e6111375-a922-4d5f-9f34-6c4d177c1074",
   "metadata": {},
   "outputs": [
    {
     "name": "stdout",
     "output_type": "stream",
     "text": [
      "0\n"
     ]
    }
   ],
   "source": [
    "#Verufying the duplicates rows are deleted or not \n",
    "\n",
    "count_of_duplicated_rows = data.duplicated().sum()\n",
    "print(count_of_duplicated_rows)\n"
   ]
  },
  {
   "cell_type": "raw",
   "id": "a7179938-b02b-4479-b701-9972c6ad1ecc",
   "metadata": {},
   "source": [
    "The duplicates are deleted from the dataset"
   ]
  },
  {
   "cell_type": "code",
   "execution_count": 8,
   "id": "2e92182a-c090-49f5-886b-37a8ff840a06",
   "metadata": {},
   "outputs": [
    {
     "name": "stdout",
     "output_type": "stream",
     "text": [
      "      credit.policy             purpose  int.rate  installment  \\\n",
      "0                 1  debt_consolidation    0.1189       829.10   \n",
      "1                 1         credit_card    0.1071       228.22   \n",
      "2                 1  debt_consolidation    0.1357       366.86   \n",
      "3                 1  debt_consolidation    0.1008       162.34   \n",
      "4                 1         credit_card    0.1426       102.92   \n",
      "...             ...                 ...       ...          ...   \n",
      "9749              1         educational    0.0901       572.48   \n",
      "9752              1    home_improvement    0.0712        92.80   \n",
      "9758              1         credit_card    0.1028       485.99   \n",
      "9766              1                 NaN    0.0870       126.65   \n",
      "9771              1         educational    0.1028        29.16   \n",
      "\n",
      "      log.annual.inc    dti   fico  days.with.cr.line  revol.bal  revol.util  \\\n",
      "0          11.350407  19.48  737.0        5639.958333    28854.0        52.1   \n",
      "1          11.082143  14.29  707.0        2760.000000    33623.0        76.7   \n",
      "2          10.373491  11.63  682.0        4710.000000     3511.0        25.6   \n",
      "3          11.350407   8.10  712.0        2699.958333    33667.0        73.2   \n",
      "4          11.299732  14.97  667.0        4066.000000     4740.0        39.5   \n",
      "...              ...    ...    ...                ...        ...         ...   \n",
      "9749       10.621327  15.37  747.0        7500.000000     4746.0        18.5   \n",
      "9752       11.440355   0.00  812.0        8250.000000        NaN         1.2   \n",
      "9758       11.385092  11.95  702.0                NaN    24615.0        94.7   \n",
      "9766       10.691945  18.71  747.0        3630.000000     3209.0        12.6   \n",
      "9771             NaN  16.70  687.0        2069.000000     3084.0        65.6   \n",
      "\n",
      "      inq.last.6mths  delinq.2yrs  pub.rec  not.fully.paid  \n",
      "0                0.0          0.0      0.0             0.0  \n",
      "1                0.0          0.0      0.0             0.0  \n",
      "2                1.0          0.0      0.0             0.0  \n",
      "3                1.0          0.0      0.0             0.0  \n",
      "4                0.0          1.0      0.0             0.0  \n",
      "...              ...          ...      ...             ...  \n",
      "9749             2.0          0.0      NaN             0.0  \n",
      "9752             0.0          0.0      0.0             0.0  \n",
      "9758             0.0          0.0      0.0             0.0  \n",
      "9766             0.0          0.0      0.0             0.0  \n",
      "9771             3.0          0.0      0.0             1.0  \n",
      "\n",
      "[9588 rows x 14 columns]\n"
     ]
    }
   ],
   "source": [
    "#To check invalid entries in fico column in the dataset i.e outside the range (300-850)\n",
    "\n",
    "fico_invalid_entries= data[(data['fico']>300 ) | (data['fico']<850)]\n",
    "\n",
    "\n",
    "print(fico_invalid_entries)"
   ]
  },
  {
   "cell_type": "code",
   "execution_count": 24,
   "id": "9046adca-2b3a-4982-925d-47db5ad50a88",
   "metadata": {},
   "outputs": [
    {
     "data": {
      "image/png": "[encoded data removed]",
      "text/plain": [
       "<Figure size 1200x800 with 1 Axes>"
      ]
     },
     "metadata": {},
     "output_type": "display_data"
    }
   ],
   "source": [
    "#To detect the outlers in installment column we can depict thie BOXPLOT\n",
    "\n",
    "plt.figure(figsize=(12,8))\n",
    "sns.boxplot(data['installment'])\n",
    "plt.show()"
   ]
  },
  {
   "cell_type": "code",
   "execution_count": 37,
   "id": "169f9de4-73c6-40a4-95f8-dbac0fa3b5a4",
   "metadata": {},
   "outputs": [
    {
     "name": "stderr",
     "output_type": "stream",
     "text": [
      "C:\\Users\\91771\\AppData\\Local\\Temp\\ipykernel_36640\\1500581703.py:3: FutureWarning: A value is trying to be set on a copy of a DataFrame or Series through chained assignment using an inplace method.\n",
      "The behavior will change in pandas 3.0. This inplace method will never work because the intermediate object on which we are setting values always behaves as a copy.\n",
      "\n",
      "For example, when doing 'df[col].method(value, inplace=True)', try using 'df.method({col: value}, inplace=True)' or df[col] = df[col].method(value) instead, to perform the operation inplace on the original object.\n",
      "\n",
      "\n",
      "  data['int.rate'].fillna(data['int.rate'].mean() ,inplace = True)\n",
      "C:\\Users\\91771\\AppData\\Local\\Temp\\ipykernel_36640\\1500581703.py:4: FutureWarning: A value is trying to be set on a copy of a DataFrame or Series through chained assignment using an inplace method.\n",
      "The behavior will change in pandas 3.0. This inplace method will never work because the intermediate object on which we are setting values always behaves as a copy.\n",
      "\n",
      "For example, when doing 'df[col].method(value, inplace=True)', try using 'df.method({col: value}, inplace=True)' or df[col] = df[col].method(value) instead, to perform the operation inplace on the original object.\n",
      "\n",
      "\n",
      "  data['installment'].fillna(data['installment'].mean() , inplace = True)\n"
     ]
    }
   ],
   "source": [
    "#Handling missing values in int.rate and installment column\n",
    "\n",
    "data['int.rate'].fillna(data['int.rate'].mean() ,inplace = True)\n",
    "data['installment'].fillna(data['installment'].mean() , inplace = True)"
   ]
  },
  {
   "cell_type": "code",
   "execution_count": 41,
   "id": "61039c08-35b2-47ee-8a39-885cf6f176e4",
   "metadata": {},
   "outputs": [
    {
     "name": "stdout",
     "output_type": "stream",
     "text": [
      "<class 'pandas.core.frame.DataFrame'>\n",
      "Index: 9590 entries, 0 to 9771\n",
      "Data columns (total 14 columns):\n",
      " #   Column             Non-Null Count  Dtype  \n",
      "---  ------             --------------  -----  \n",
      " 0   credit.policy      9590 non-null   int64  \n",
      " 1   purpose            9589 non-null   object \n",
      " 2   int.rate           9590 non-null   float64\n",
      " 3   installment        9590 non-null   float64\n",
      " 4   log.annual.inc     9589 non-null   float64\n",
      " 5   dti                9589 non-null   float64\n",
      " 6   fico               9588 non-null   float64\n",
      " 7   days.with.cr.line  9586 non-null   float64\n",
      " 8   revol.bal          9587 non-null   float64\n",
      " 9   revol.util         9589 non-null   float64\n",
      " 10  inq.last.6mths     9588 non-null   float64\n",
      " 11  delinq.2yrs        9588 non-null   float64\n",
      " 12  pub.rec            9587 non-null   float64\n",
      " 13  not.fully.paid     9585 non-null   float64\n",
      "dtypes: float64(12), int64(1), object(1)\n",
      "memory usage: 1.1+ MB\n"
     ]
    }
   ],
   "source": [
    "#verifying  int.rate and installment column\n",
    "data.info()"
   ]
  },
  {
   "cell_type": "code",
   "execution_count": 43,
   "id": "80da14e0-f700-4ed8-9b64-78dd9cdcb93a",
   "metadata": {},
   "outputs": [],
   "source": [
    "#No missing values in int.rate and installment column handled the missing values values replacing it by mean"
   ]
  },
  {
   "cell_type": "code",
   "execution_count": 73,
   "id": "2ad132e4-a8d2-45dc-94c0-a29c42532d75",
   "metadata": {},
   "outputs": [
    {
     "data": {
      "image/png": "[encoded data removed]",
      "text/plain": [
       "<Figure size 1200x800 with 1 Axes>"
      ]
     },
     "metadata": {},
     "output_type": "display_data"
    }
   ],
   "source": [
    "#Plotting the distribution of installment column\n",
    "plt.figure(figsize=(12,8))\n",
    "sns.histplot(x=data['installment'])\n",
    "plt.title(\"Distribution of installment column\")\n",
    "plt.show()"
   ]
  },
  {
   "cell_type": "code",
   "execution_count": 81,
   "id": "75b9b0b2-eff2-494f-8c8e-5580fe0d25b9",
   "metadata": {},
   "outputs": [
    {
     "data": {
      "image/png": "[encoded data removed]",
      "text/plain": [
       "<Figure size 1200x800 with 1 Axes>"
      ]
     },
     "metadata": {},
     "output_type": "display_data"
    }
   ],
   "source": [
    "#Plotting the distribution of FICO scores for loans that were fully paid versus those that were not fully paid.\n",
    "plt.figure(figsize=(12,8))\n",
    "sns.barplot(data = data ,x=data['fico'], hue =\"not.fully.paid\")\n",
    "plt.title(\"FICO scores for loans that were fully paid versus those that were not fully paid\")\n",
    "plt.show()"
   ]
  },
  {
   "cell_type": "code",
   "execution_count": 79,
   "id": "0c752f99-16a6-43b0-981e-66f686a24ea7",
   "metadata": {},
   "outputs": [
    {
     "data": {
      "image/png": "[encoded data removed]",
      "text/plain": [
       "<Figure size 1200x800 with 1 Axes>"
      ]
     },
     "metadata": {},
     "output_type": "display_data"
    }
   ],
   "source": [
    "#distribution of the interest rate (int.rate) for different loan purpose.\n",
    "\n",
    "plt.figure(figsize=(12,8))\n",
    "sns.barplot(data = data ,x=data['int.rate'], hue =\"purpose\")\n",
    "plt.title(\"distribution of the interest rate (int.rate) for different loan purpose\")\n",
    "plt.show()\n",
    "\n"
   ]
  }
 ],
 "metadata": {
  "kernelspec": {
   "display_name": "Python 3 (ipykernel)",
   "language": "python",
   "name": "python3"
  },
  "language_info": {
   "codemirror_mode": {
    "name": "ipython",
    "version": 3
   },
   "file_extension": ".py",
   "mimetype": "text/x-python",
   "name": "python",
   "nbconvert_exporter": "python",
   "pygments_lexer": "ipython3",
   "version": "3.12.4"
  }
 },
 "nbformat": 4,
 "nbformat_minor": 5
}
